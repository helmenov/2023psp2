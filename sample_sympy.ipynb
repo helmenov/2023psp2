{
 "cells": [
  {
   "cell_type": "code",
   "execution_count": 32,
   "metadata": {},
   "outputs": [
    {
     "data": {
      "text/latex": [
       "$\\displaystyle e^{- t} \\cos{\\left(t \\right)}$"
      ],
      "text/plain": [
       "exp(-t)*cos(t)"
      ]
     },
     "metadata": {},
     "output_type": "display_data"
    }
   ],
   "source": [
    "import sympy\n",
    "\n",
    "t = sympy.Symbol('t') # 文字列'x'をxの記号にするクラス\n",
    "f = sympy.Function('f')\n",
    "g = sympy.Function('g')\n",
    "f_expr = sympy.exp(-t) * sympy.cos(t)\n",
    "g_expr = sympy.exp(-t) * sympy.sin(t)\n",
    "\n",
    "#sympy.expand(expr) # 展開\n",
    "#sympy.factor(expr) # 因数分解\n",
    "display(f_expr)\n",
    "\n",
    "# (1)\n",
    "d_f = sympy.Eq(sympy.Derivative(f,t), sympy.diff(f,t))\n",
    "d_g = sympy.Eq(sympy.Derivative(g,t), sympy.diff(f,t))\n",
    "\n",
    "df0 = sympy.Eq(sympy.diff(f,t),0)\n",
    "#ans_df0 = sympy.dsolve(df0)\n",
    "#ans_df0\n",
    "\n",
    "dg0 = sympy.Eq(sympy.diff(g,t),0)\n",
    "#ans_dg0 = sympy.dsolve(dg0)\n",
    "#ans_dg0\n",
    "\n",
    "#int_f = sympy.Eq(sympy.Integral(f, t), sympy.integrate(f, t))\n",
    "\n"
   ]
  }
 ],
 "metadata": {
  "kernelspec": {
   "display_name": "Python 3.10.0 ('.venv': poetry)",
   "language": "python",
   "name": "python3"
  },
  "language_info": {
   "codemirror_mode": {
    "name": "ipython",
    "version": 3
   },
   "file_extension": ".py",
   "mimetype": "text/x-python",
   "name": "python",
   "nbconvert_exporter": "python",
   "pygments_lexer": "ipython3",
   "version": "3.10.0"
  },
  "orig_nbformat": 4,
  "vscode": {
   "interpreter": {
    "hash": "8a19dae5ffff3f22b0edde13688b5ea2e07140bd1bb4fbbd3ff90216917021a9"
   }
  }
 },
 "nbformat": 4,
 "nbformat_minor": 2
}
